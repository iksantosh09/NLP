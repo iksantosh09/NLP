{
  "nbformat": 4,
  "nbformat_minor": 0,
  "metadata": {
    "colab": {
      "name": "Text_Cleaning_NLP28th May.ipynb",
      "provenance": [],
      "collapsed_sections": []
    },
    "kernelspec": {
      "name": "python3",
      "display_name": "Python 3"
    },
    "language_info": {
      "name": "python"
    }
  },
  "cells": [
    {
      "cell_type": "code",
      "execution_count": 8,
      "metadata": {
        "colab": {
          "base_uri": "https://localhost:8080/",
          "height": 73
        },
        "id": "enDo3s-nR6xZ",
        "outputId": "3a09d428-a1b8-4e71-f5ec-ba5004565ba1"
      },
      "outputs": [
        {
          "output_type": "execute_result",
          "data": {
            "text/plain": [
              "'Musk had tweeted that he faced challenges from the government for releasing its products in India. \"Tesla isn\\'t in India yet due to \"Challenges with the government,\" he posted.Currently, India levies 100 per cent tax on the imported cars of price more than $40,000 (Rs 30 lakhs), inclusive of insurance and shipping expenses, and cars less than $40,000 are subject to 60 per cent import tax.'"
            ],
            "application/vnd.google.colaboratory.intrinsic+json": {
              "type": "string"
            }
          },
          "metadata": {},
          "execution_count": 8
        }
      ],
      "source": [
        "text =  '''Musk had tweeted that he faced challenges from the government for releasing its products in India. \"Tesla isn't in India yet due to \"Challenges with the government,\" he posted.Currently, India levies 100 per cent tax on the imported cars of price more than $40,000 (Rs 30 lakhs), inclusive of insurance and shipping expenses, and cars less than $40,000 are subject to 60 per cent import tax.'''\n",
        "text"
      ]
    },
    {
      "cell_type": "code",
      "source": [
        "import nltk\n",
        "nltk.download('punkt')\n",
        "nltk.download('stopwords')\n",
        "nltk.download('wordnet')"
      ],
      "metadata": {
        "colab": {
          "base_uri": "https://localhost:8080/"
        },
        "id": "-7ZT3AhLSJax",
        "outputId": "cd0bbbc7-fe08-4fa4-8536-e922635390fc"
      },
      "execution_count": 43,
      "outputs": [
        {
          "output_type": "stream",
          "name": "stdout",
          "text": [
            "[nltk_data] Downloading package punkt to /root/nltk_data...\n",
            "[nltk_data]   Package punkt is already up-to-date!\n",
            "[nltk_data] Downloading package stopwords to /root/nltk_data...\n",
            "[nltk_data]   Package stopwords is already up-to-date!\n",
            "[nltk_data] Downloading package wordnet to /root/nltk_data...\n",
            "[nltk_data]   Unzipping corpora/wordnet.zip.\n"
          ]
        },
        {
          "output_type": "execute_result",
          "data": {
            "text/plain": [
              "True"
            ]
          },
          "metadata": {},
          "execution_count": 43
        }
      ]
    },
    {
      "cell_type": "code",
      "source": [
        "nltk.tokenize.sent_tokenize(text)"
      ],
      "metadata": {
        "colab": {
          "base_uri": "https://localhost:8080/"
        },
        "id": "tuirWY77Tz7k",
        "outputId": "ef1b5db3-2a9b-4bf2-b65b-e3958a6b715a"
      },
      "execution_count": 13,
      "outputs": [
        {
          "output_type": "execute_result",
          "data": {
            "text/plain": [
              "['Musk had tweeted that he faced challenges from the government for releasing its products in India.',\n",
              " '\"Tesla isn\\'t in India yet due to \"Challenges with the government,\" he posted.Currently, India levies 100 per cent tax on the imported cars of price more than $40,000 (Rs 30 lakhs), inclusive of insurance and shipping expenses, and cars less than $40,000 are subject to 60 per cent import tax.']"
            ]
          },
          "metadata": {},
          "execution_count": 13
        }
      ]
    },
    {
      "cell_type": "code",
      "source": [
        "nltk.tokenize.sent_tokenize(text)"
      ],
      "metadata": {
        "colab": {
          "base_uri": "https://localhost:8080/"
        },
        "id": "Pwn7kKRmT0qw",
        "outputId": "512d4de2-da4a-49d4-db7a-af972ff8a500"
      },
      "execution_count": 17,
      "outputs": [
        {
          "output_type": "execute_result",
          "data": {
            "text/plain": [
              "['Musk had tweeted that he faced challenges from the government for releasing its products in India.',\n",
              " '\"Tesla isn\\'t in India yet due to \"Challenges with the government,\" he posted.Currently, India levies 100 per cent tax on the imported cars of price more than $40,000 (Rs 30 lakhs), inclusive of insurance and shipping expenses, and cars less than $40,000 are subject to 60 per cent import tax.']"
            ]
          },
          "metadata": {},
          "execution_count": 17
        }
      ]
    },
    {
      "cell_type": "code",
      "source": [
        "for sentences in nltk.tokenize.sent_tokenize(text):\n",
        "    print(sentences,' : ',nltk.tokenize.word_tokenize(sentences))"
      ],
      "metadata": {
        "colab": {
          "base_uri": "https://localhost:8080/"
        },
        "id": "jhHzoB98ULLJ",
        "outputId": "78f8c8f1-2d8f-4b3e-c806-88a6c69ff42f"
      },
      "execution_count": 18,
      "outputs": [
        {
          "output_type": "stream",
          "name": "stdout",
          "text": [
            "Musk had tweeted that he faced challenges from the government for releasing its products in India.  :  ['Musk', 'had', 'tweeted', 'that', 'he', 'faced', 'challenges', 'from', 'the', 'government', 'for', 'releasing', 'its', 'products', 'in', 'India', '.']\n",
            "\"Tesla isn't in India yet due to \"Challenges with the government,\" he posted.Currently, India levies 100 per cent tax on the imported cars of price more than $40,000 (Rs 30 lakhs), inclusive of insurance and shipping expenses, and cars less than $40,000 are subject to 60 per cent import tax.  :  ['``', 'Tesla', 'is', \"n't\", 'in', 'India', 'yet', 'due', 'to', '``', 'Challenges', 'with', 'the', 'government', ',', \"''\", 'he', 'posted.Currently', ',', 'India', 'levies', '100', 'per', 'cent', 'tax', 'on', 'the', 'imported', 'cars', 'of', 'price', 'more', 'than', '$', '40,000', '(', 'Rs', '30', 'lakhs', ')', ',', 'inclusive', 'of', 'insurance', 'and', 'shipping', 'expenses', ',', 'and', 'cars', 'less', 'than', '$', '40,000', 'are', 'subject', 'to', '60', 'per', 'cent', 'import', 'tax', '.']\n"
          ]
        }
      ]
    },
    {
      "cell_type": "code",
      "source": [
        "nltk.tokenize.word_tokenize('''Musk had tweeted that he faced challenges from the government for releasing its products in India. \"Tesla isn't in India yet due to \"Challenges with the government,\" he posted.Currently, India levies 100 per cent tax on the imported cars of price more than $40,000 (Rs 30 lakhs), inclusive of insurance and shipping expenses, and cars less than $40,000 are subject to 60 per cent import tax.''')\n"
      ],
      "metadata": {
        "colab": {
          "base_uri": "https://localhost:8080/"
        },
        "id": "i5iPvZwkUMKT",
        "outputId": "ab3bd004-db40-4ecf-b17e-65367fe3e06f"
      },
      "execution_count": 21,
      "outputs": [
        {
          "output_type": "execute_result",
          "data": {
            "text/plain": [
              "['Musk',\n",
              " 'had',\n",
              " 'tweeted',\n",
              " 'that',\n",
              " 'he',\n",
              " 'faced',\n",
              " 'challenges',\n",
              " 'from',\n",
              " 'the',\n",
              " 'government',\n",
              " 'for',\n",
              " 'releasing',\n",
              " 'its',\n",
              " 'products',\n",
              " 'in',\n",
              " 'India',\n",
              " '.',\n",
              " '``',\n",
              " 'Tesla',\n",
              " 'is',\n",
              " \"n't\",\n",
              " 'in',\n",
              " 'India',\n",
              " 'yet',\n",
              " 'due',\n",
              " 'to',\n",
              " '``',\n",
              " 'Challenges',\n",
              " 'with',\n",
              " 'the',\n",
              " 'government',\n",
              " ',',\n",
              " \"''\",\n",
              " 'he',\n",
              " 'posted.Currently',\n",
              " ',',\n",
              " 'India',\n",
              " 'levies',\n",
              " '100',\n",
              " 'per',\n",
              " 'cent',\n",
              " 'tax',\n",
              " 'on',\n",
              " 'the',\n",
              " 'imported',\n",
              " 'cars',\n",
              " 'of',\n",
              " 'price',\n",
              " 'more',\n",
              " 'than',\n",
              " '$',\n",
              " '40,000',\n",
              " '(',\n",
              " 'Rs',\n",
              " '30',\n",
              " 'lakhs',\n",
              " ')',\n",
              " ',',\n",
              " 'inclusive',\n",
              " 'of',\n",
              " 'insurance',\n",
              " 'and',\n",
              " 'shipping',\n",
              " 'expenses',\n",
              " ',',\n",
              " 'and',\n",
              " 'cars',\n",
              " 'less',\n",
              " 'than',\n",
              " '$',\n",
              " '40,000',\n",
              " 'are',\n",
              " 'subject',\n",
              " 'to',\n",
              " '60',\n",
              " 'per',\n",
              " 'cent',\n",
              " 'import',\n",
              " 'tax',\n",
              " '.']"
            ]
          },
          "metadata": {},
          "execution_count": 21
        }
      ]
    },
    {
      "cell_type": "code",
      "source": [
        "my_stopwords = ['he', 'is', 'for', 'the', 'as', 'in', 'on']"
      ],
      "metadata": {
        "id": "CGVP1D_KUi1r"
      },
      "execution_count": 22,
      "outputs": []
    },
    {
      "cell_type": "code",
      "source": [
        "clean_text = [word for word in nltk.tokenize.word_tokenize(text.lower()) if word not in my_stopwords]\n",
        "clean_text"
      ],
      "metadata": {
        "colab": {
          "base_uri": "https://localhost:8080/"
        },
        "id": "PpQTVUcVU6e4",
        "outputId": "10b015c7-96ef-43fa-b468-ce5301e130c5"
      },
      "execution_count": 23,
      "outputs": [
        {
          "output_type": "execute_result",
          "data": {
            "text/plain": [
              "['musk',\n",
              " 'had',\n",
              " 'tweeted',\n",
              " 'that',\n",
              " 'faced',\n",
              " 'challenges',\n",
              " 'from',\n",
              " 'government',\n",
              " 'releasing',\n",
              " 'its',\n",
              " 'products',\n",
              " 'india',\n",
              " '.',\n",
              " '``',\n",
              " 'tesla',\n",
              " \"n't\",\n",
              " 'india',\n",
              " 'yet',\n",
              " 'due',\n",
              " 'to',\n",
              " '``',\n",
              " 'challenges',\n",
              " 'with',\n",
              " 'government',\n",
              " ',',\n",
              " \"''\",\n",
              " 'posted.currently',\n",
              " ',',\n",
              " 'india',\n",
              " 'levies',\n",
              " '100',\n",
              " 'per',\n",
              " 'cent',\n",
              " 'tax',\n",
              " 'imported',\n",
              " 'cars',\n",
              " 'of',\n",
              " 'price',\n",
              " 'more',\n",
              " 'than',\n",
              " '$',\n",
              " '40,000',\n",
              " '(',\n",
              " 'rs',\n",
              " '30',\n",
              " 'lakhs',\n",
              " ')',\n",
              " ',',\n",
              " 'inclusive',\n",
              " 'of',\n",
              " 'insurance',\n",
              " 'and',\n",
              " 'shipping',\n",
              " 'expenses',\n",
              " ',',\n",
              " 'and',\n",
              " 'cars',\n",
              " 'less',\n",
              " 'than',\n",
              " '$',\n",
              " '40,000',\n",
              " 'are',\n",
              " 'subject',\n",
              " 'to',\n",
              " '60',\n",
              " 'per',\n",
              " 'cent',\n",
              " 'import',\n",
              " 'tax',\n",
              " '.']"
            ]
          },
          "metadata": {},
          "execution_count": 23
        }
      ]
    },
    {
      "cell_type": "code",
      "source": [
        "# Using pre-available list within nltk\n",
        "from nltk.corpus import stopwords\n",
        "\n",
        "mystopwords = stopwords.words('english')\n",
        "print(mystopwords)"
      ],
      "metadata": {
        "colab": {
          "base_uri": "https://localhost:8080/"
        },
        "id": "g60QkV5pU-AA",
        "outputId": "114681b7-0835-4126-9ba0-acc8a0f0677b"
      },
      "execution_count": 27,
      "outputs": [
        {
          "output_type": "stream",
          "name": "stdout",
          "text": [
            "['i', 'me', 'my', 'myself', 'we', 'our', 'ours', 'ourselves', 'you', \"you're\", \"you've\", \"you'll\", \"you'd\", 'your', 'yours', 'yourself', 'yourselves', 'he', 'him', 'his', 'himself', 'she', \"she's\", 'her', 'hers', 'herself', 'it', \"it's\", 'its', 'itself', 'they', 'them', 'their', 'theirs', 'themselves', 'what', 'which', 'who', 'whom', 'this', 'that', \"that'll\", 'these', 'those', 'am', 'is', 'are', 'was', 'were', 'be', 'been', 'being', 'have', 'has', 'had', 'having', 'do', 'does', 'did', 'doing', 'a', 'an', 'the', 'and', 'but', 'if', 'or', 'because', 'as', 'until', 'while', 'of', 'at', 'by', 'for', 'with', 'about', 'against', 'between', 'into', 'through', 'during', 'before', 'after', 'above', 'below', 'to', 'from', 'up', 'down', 'in', 'out', 'on', 'off', 'over', 'under', 'again', 'further', 'then', 'once', 'here', 'there', 'when', 'where', 'why', 'how', 'all', 'any', 'both', 'each', 'few', 'more', 'most', 'other', 'some', 'such', 'no', 'nor', 'not', 'only', 'own', 'same', 'so', 'than', 'too', 'very', 's', 't', 'can', 'will', 'just', 'don', \"don't\", 'should', \"should've\", 'now', 'd', 'll', 'm', 'o', 're', 've', 'y', 'ain', 'aren', \"aren't\", 'couldn', \"couldn't\", 'didn', \"didn't\", 'doesn', \"doesn't\", 'hadn', \"hadn't\", 'hasn', \"hasn't\", 'haven', \"haven't\", 'isn', \"isn't\", 'ma', 'mightn', \"mightn't\", 'mustn', \"mustn't\", 'needn', \"needn't\", 'shan', \"shan't\", 'shouldn', \"shouldn't\", 'wasn', \"wasn't\", 'weren', \"weren't\", 'won', \"won't\", 'wouldn', \"wouldn't\"]\n"
          ]
        }
      ]
    },
    {
      "cell_type": "code",
      "source": [
        "# Filtering using the nltk's stopword list\n",
        "\n",
        "text = '''Musk had tweeted that he faced challenges from the government for releasing its products in India. \"Tesla isn't in India yet due to \"Challenges with the government,\" he posted.Currently, India levies 100 per cent tax on the imported cars of price more than $40,000 (Rs 30 lakhs), inclusive of insurance and shipping expenses, and cars less than $40,000 are subject to 60 per cent import tax.'''\n",
        "\n",
        "clean_text = [word for word in nltk.tokenize.word_tokenize(text.lower()) if word not in mystopwords]\n",
        "clean_text"
      ],
      "metadata": {
        "colab": {
          "base_uri": "https://localhost:8080/"
        },
        "id": "s-OLqSJeVHjx",
        "outputId": "23cd360e-bcfd-463f-f991-36798919abe4"
      },
      "execution_count": 30,
      "outputs": [
        {
          "output_type": "execute_result",
          "data": {
            "text/plain": [
              "['musk',\n",
              " 'tweeted',\n",
              " 'faced',\n",
              " 'challenges',\n",
              " 'government',\n",
              " 'releasing',\n",
              " 'products',\n",
              " 'india',\n",
              " '.',\n",
              " '``',\n",
              " 'tesla',\n",
              " \"n't\",\n",
              " 'india',\n",
              " 'yet',\n",
              " 'due',\n",
              " '``',\n",
              " 'challenges',\n",
              " 'government',\n",
              " ',',\n",
              " \"''\",\n",
              " 'posted.currently',\n",
              " ',',\n",
              " 'india',\n",
              " 'levies',\n",
              " '100',\n",
              " 'per',\n",
              " 'cent',\n",
              " 'tax',\n",
              " 'imported',\n",
              " 'cars',\n",
              " 'price',\n",
              " '$',\n",
              " '40,000',\n",
              " '(',\n",
              " 'rs',\n",
              " '30',\n",
              " 'lakhs',\n",
              " ')',\n",
              " ',',\n",
              " 'inclusive',\n",
              " 'insurance',\n",
              " 'shipping',\n",
              " 'expenses',\n",
              " ',',\n",
              " 'cars',\n",
              " 'less',\n",
              " '$',\n",
              " '40,000',\n",
              " 'subject',\n",
              " '60',\n",
              " 'per',\n",
              " 'cent',\n",
              " 'import',\n",
              " 'tax',\n",
              " '.']"
            ]
          },
          "metadata": {},
          "execution_count": 30
        }
      ]
    },
    {
      "cell_type": "code",
      "source": [
        "from string import punctuation"
      ],
      "metadata": {
        "id": "QOntmo_tVlBF"
      },
      "execution_count": 31,
      "outputs": []
    },
    {
      "cell_type": "code",
      "source": [
        "punctuation"
      ],
      "metadata": {
        "colab": {
          "base_uri": "https://localhost:8080/",
          "height": 36
        },
        "id": "2HJBbeAcVlfI",
        "outputId": "8c1a5c70-b386-4001-9c7f-b3286943ff4a"
      },
      "execution_count": 33,
      "outputs": [
        {
          "output_type": "execute_result",
          "data": {
            "text/plain": [
              "'!\"#$%&\\'()*+,-./:;<=>?@[\\\\]^_`{|}~'"
            ],
            "application/vnd.google.colaboratory.intrinsic+json": {
              "type": "string"
            }
          },
          "metadata": {},
          "execution_count": 33
        }
      ]
    },
    {
      "cell_type": "code",
      "source": [
        "'3'.isdigit()"
      ],
      "metadata": {
        "colab": {
          "base_uri": "https://localhost:8080/"
        },
        "id": "zCzb7Uv2Vt9A",
        "outputId": "34cf6bd4-26b5-4b85-becb-503b70b9a0c3"
      },
      "execution_count": 35,
      "outputs": [
        {
          "output_type": "execute_result",
          "data": {
            "text/plain": [
              "True"
            ]
          },
          "metadata": {},
          "execution_count": 35
        }
      ]
    },
    {
      "cell_type": "code",
      "source": [
        "text = '''Musk had tweeted that he faced challenges from the government for releasing its products in India. \"Tesla isn't in India yet due to \"Challenges with the government,\" he posted.Currently, India levies 100 per cent tax on the imported cars of price more than $40,000 (Rs 30 lakhs), inclusive of insurance and shipping expenses, and cars less than $40,000 are subject to 60 per cent import tax.'''\n",
        "\n",
        "clean_text = [word for word in nltk.tokenize.word_tokenize(text.lower()) if word not in mystopwords]\n",
        "# Removing punctuation from the stopword removed text\n",
        "clean_text = [word for word in clean_text if word not in punctuation]\n",
        "# Removing digits\n",
        "clean_text = [word for word in clean_text if not word.isdigit()]\n",
        "clean_text"
      ],
      "metadata": {
        "colab": {
          "base_uri": "https://localhost:8080/"
        },
        "id": "AEw-ZRhdV1PI",
        "outputId": "79ae8333-b122-4755-b6c3-1ad7aa140040"
      },
      "execution_count": 36,
      "outputs": [
        {
          "output_type": "execute_result",
          "data": {
            "text/plain": [
              "['musk',\n",
              " 'tweeted',\n",
              " 'faced',\n",
              " 'challenges',\n",
              " 'government',\n",
              " 'releasing',\n",
              " 'products',\n",
              " 'india',\n",
              " '``',\n",
              " 'tesla',\n",
              " \"n't\",\n",
              " 'india',\n",
              " 'yet',\n",
              " 'due',\n",
              " '``',\n",
              " 'challenges',\n",
              " 'government',\n",
              " \"''\",\n",
              " 'posted.currently',\n",
              " 'india',\n",
              " 'levies',\n",
              " 'per',\n",
              " 'cent',\n",
              " 'tax',\n",
              " 'imported',\n",
              " 'cars',\n",
              " 'price',\n",
              " '40,000',\n",
              " 'rs',\n",
              " 'lakhs',\n",
              " 'inclusive',\n",
              " 'insurance',\n",
              " 'shipping',\n",
              " 'expenses',\n",
              " 'cars',\n",
              " 'less',\n",
              " '40,000',\n",
              " 'subject',\n",
              " 'per',\n",
              " 'cent',\n",
              " 'import',\n",
              " 'tax']"
            ]
          },
          "metadata": {},
          "execution_count": 36
        }
      ]
    },
    {
      "cell_type": "code",
      "source": [
        "#Stemming and Lemmatization"
      ],
      "metadata": {
        "id": "Jr4_qrLCV7k_"
      },
      "execution_count": 37,
      "outputs": []
    },
    {
      "cell_type": "code",
      "source": [
        "from nltk.stem import PorterStemmer\n",
        "\n",
        "stemmer = PorterStemmer()"
      ],
      "metadata": {
        "id": "86-1EH1gWBxq"
      },
      "execution_count": 38,
      "outputs": []
    },
    {
      "cell_type": "code",
      "source": [
        "stemmer.stem('cars')"
      ],
      "metadata": {
        "colab": {
          "base_uri": "https://localhost:8080/",
          "height": 36
        },
        "id": "LnS3OEPcWEr8",
        "outputId": "aa06ee97-ccfa-4bfe-9b34-65d10aff91f4"
      },
      "execution_count": 40,
      "outputs": [
        {
          "output_type": "execute_result",
          "data": {
            "text/plain": [
              "'car'"
            ],
            "application/vnd.google.colaboratory.intrinsic+json": {
              "type": "string"
            }
          },
          "metadata": {},
          "execution_count": 40
        }
      ]
    },
    {
      "cell_type": "code",
      "source": [
        "from nltk.stem import WordNetLemmatizer\n",
        "\n",
        "lemmatizer = WordNetLemmatizer()"
      ],
      "metadata": {
        "id": "BY-VeBx_WRMK"
      },
      "execution_count": 41,
      "outputs": []
    },
    {
      "cell_type": "code",
      "source": [
        "lemmatizer.lemmatize('better',pos='a')"
      ],
      "metadata": {
        "colab": {
          "base_uri": "https://localhost:8080/",
          "height": 36
        },
        "id": "y4tF8R6mWSW4",
        "outputId": "3cd4d258-973f-4f6c-a926-a15a1eaf37ca"
      },
      "execution_count": 44,
      "outputs": [
        {
          "output_type": "execute_result",
          "data": {
            "text/plain": [
              "'good'"
            ],
            "application/vnd.google.colaboratory.intrinsic+json": {
              "type": "string"
            }
          },
          "metadata": {},
          "execution_count": 44
        }
      ]
    },
    {
      "cell_type": "code",
      "source": [
        "lemmatizer.lemmatize('better')"
      ],
      "metadata": {
        "colab": {
          "base_uri": "https://localhost:8080/",
          "height": 36
        },
        "id": "gKoIkVLzWUcb",
        "outputId": "2b6eb85d-5ddc-4f31-95d3-126c886b7b8e"
      },
      "execution_count": 46,
      "outputs": [
        {
          "output_type": "execute_result",
          "data": {
            "text/plain": [
              "'better'"
            ],
            "application/vnd.google.colaboratory.intrinsic+json": {
              "type": "string"
            }
          },
          "metadata": {},
          "execution_count": 46
        }
      ]
    },
    {
      "cell_type": "code",
      "source": [
        "#Implementing Stemming\n",
        "\n",
        "text = '''Musk had tweeted that he faced challenges from the government for releasing its products in India. \"Tesla isn't in India yet due to \"Challenges with the government,\" he posted.Currently, India levies 100 per cent tax on the imported cars of price more than $40,000 (Rs 30 lakhs), inclusive of insurance and shipping expenses, and cars less than $40,000 are subject to 60 per cent import tax.'''\n",
        "clean_text = [word for word in nltk.tokenize.word_tokenize(text.lower()) if word not in mystopwords]\n",
        "# Removing punctuation from the stopword removed text\n",
        "clean_text = [word for word in clean_text if word not in punctuation]\n",
        "# Removing digits\n",
        "clean_text = [word for word in clean_text if not word.isdigit()]\n",
        "# Stemming of the text\n",
        "clean_text = [stemmer.stem(word) for word in clean_text]\n",
        "clean_text"
      ],
      "metadata": {
        "colab": {
          "base_uri": "https://localhost:8080/"
        },
        "id": "sm-sp2vkWdrs",
        "outputId": "6ac7bed4-7fc1-43b5-f677-10ce248a9f21"
      },
      "execution_count": 48,
      "outputs": [
        {
          "output_type": "execute_result",
          "data": {
            "text/plain": [
              "['musk',\n",
              " 'tweet',\n",
              " 'face',\n",
              " 'challeng',\n",
              " 'govern',\n",
              " 'releas',\n",
              " 'product',\n",
              " 'india',\n",
              " '``',\n",
              " 'tesla',\n",
              " \"n't\",\n",
              " 'india',\n",
              " 'yet',\n",
              " 'due',\n",
              " '``',\n",
              " 'challeng',\n",
              " 'govern',\n",
              " \"''\",\n",
              " 'posted.curr',\n",
              " 'india',\n",
              " 'levi',\n",
              " 'per',\n",
              " 'cent',\n",
              " 'tax',\n",
              " 'import',\n",
              " 'car',\n",
              " 'price',\n",
              " '40,000',\n",
              " 'rs',\n",
              " 'lakh',\n",
              " 'inclus',\n",
              " 'insur',\n",
              " 'ship',\n",
              " 'expens',\n",
              " 'car',\n",
              " 'less',\n",
              " '40,000',\n",
              " 'subject',\n",
              " 'per',\n",
              " 'cent',\n",
              " 'import',\n",
              " 'tax']"
            ]
          },
          "metadata": {},
          "execution_count": 48
        }
      ]
    },
    {
      "cell_type": "code",
      "source": [
        "#Implementing Lemmatization\n",
        "\n",
        "text = '''Musk had tweeted that he faced challenges from the government for releasing its products in India. \"Tesla isn't in India yet due to \"Challenges with the government,\" he posted.Currently, India levies 100 per cent tax on the imported cars of price more than $40,000 (Rs 30 lakhs), inclusive of insurance and shipping expenses, and cars less than $40,000 are subject to 60 per cent import tax.'''\n",
        "\n",
        "clean_text = [word for word in nltk.tokenize.word_tokenize(text.lower()) if word not in mystopwords]\n",
        "# Removing punctuation from the stopword removed text\n",
        "clean_text = [word for word in clean_text if word not in punctuation]\n",
        "# Removing digits\n",
        "clean_text = [word for word in clean_text if not word.isdigit()]\n",
        "# Stemming of the text\n",
        "clean_text = [lemmatizer.lemmatize(word,pos='v') for word in clean_text]\n",
        "clean_text"
      ],
      "metadata": {
        "colab": {
          "base_uri": "https://localhost:8080/"
        },
        "id": "KhooVonDWkxl",
        "outputId": "987393e4-7651-41f4-c5d1-efb806df1470"
      },
      "execution_count": 49,
      "outputs": [
        {
          "output_type": "execute_result",
          "data": {
            "text/plain": [
              "['musk',\n",
              " 'tweet',\n",
              " 'face',\n",
              " 'challenge',\n",
              " 'government',\n",
              " 'release',\n",
              " 'products',\n",
              " 'india',\n",
              " '``',\n",
              " 'tesla',\n",
              " \"n't\",\n",
              " 'india',\n",
              " 'yet',\n",
              " 'due',\n",
              " '``',\n",
              " 'challenge',\n",
              " 'government',\n",
              " \"''\",\n",
              " 'posted.currently',\n",
              " 'india',\n",
              " 'levy',\n",
              " 'per',\n",
              " 'cent',\n",
              " 'tax',\n",
              " 'import',\n",
              " 'cars',\n",
              " 'price',\n",
              " '40,000',\n",
              " 'rs',\n",
              " 'lakhs',\n",
              " 'inclusive',\n",
              " 'insurance',\n",
              " 'ship',\n",
              " 'expense',\n",
              " 'cars',\n",
              " 'less',\n",
              " '40,000',\n",
              " 'subject',\n",
              " 'per',\n",
              " 'cent',\n",
              " 'import',\n",
              " 'tax']"
            ]
          },
          "metadata": {},
          "execution_count": 49
        }
      ]
    },
    {
      "cell_type": "code",
      "source": [
        ""
      ],
      "metadata": {
        "id": "XzadDYU4WqW_"
      },
      "execution_count": null,
      "outputs": []
    }
  ]
}